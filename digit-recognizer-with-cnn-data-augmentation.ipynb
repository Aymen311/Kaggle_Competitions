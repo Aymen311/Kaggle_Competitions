{
 "cells": [
  {
   "cell_type": "code",
   "execution_count": 1,
   "metadata": {
    "_cell_guid": "b1076dfc-b9ad-4769-8c92-a6c4dae69d19",
    "_uuid": "8f2839f25d086af736a60e9eeb907d3b93b6e0e5",
    "execution": {
     "iopub.execute_input": "2020-08-12T13:22:17.637610Z",
     "iopub.status.busy": "2020-08-12T13:22:17.635883Z",
     "iopub.status.idle": "2020-08-12T13:22:26.480794Z",
     "shell.execute_reply": "2020-08-12T13:22:26.479932Z"
    },
    "papermill": {
     "duration": 8.873348,
     "end_time": "2020-08-12T13:22:26.480976",
     "exception": false,
     "start_time": "2020-08-12T13:22:17.607628",
     "status": "completed"
    },
    "tags": []
   },
   "outputs": [],
   "source": [
    "import pandas as pd\n",
    "import numpy as np\n",
    "import matplotlib.pyplot as plt \n",
    "import matplotlib.image as mpimg\n",
    "import seaborn as sns \n",
    "%matplotlib inline \n",
    "\n",
    "np.random.seed(0)\n",
    "\n",
    "from sklearn.model_selection import train_test_split\n",
    "from sklearn.metrics import confusion_matrix\n",
    "import itertools \n",
    "\n",
    "from keras.utils.np_utils import to_categorical # convert to one-hot-encoding\n",
    "from keras.models import Sequential\n",
    "from keras.layers import Dense, Dropout, Flatten, Conv2D, MaxPool2D\n",
    "from keras.optimizers import RMSprop\n",
    "from keras.preprocessing.image import ImageDataGenerator\n",
    "from keras.callbacks import ReduceLROnPlateau\n",
    "\n",
    "sns.set(style = 'white', context = 'notebook', palette = 'deep')"
   ]
  },
  {
   "cell_type": "markdown",
   "execution_count": null,
   "metadata": {
    "papermill": {
     "duration": 0.010645,
     "end_time": "2020-08-12T13:22:26.503433",
     "exception": false,
     "start_time": "2020-08-12T13:22:26.492788",
     "status": "completed"
    },
    "tags": []
   },
   "source": [
    "### Loading our data ...\n"
   ]
  },
  {
   "cell_type": "code",
   "execution_count": 2,
   "metadata": {
    "execution": {
     "iopub.execute_input": "2020-08-12T13:22:26.535842Z",
     "iopub.status.busy": "2020-08-12T13:22:26.534974Z",
     "iopub.status.idle": "2020-08-12T13:22:33.033614Z",
     "shell.execute_reply": "2020-08-12T13:22:33.034481Z"
    },
    "papermill": {
     "duration": 6.520351,
     "end_time": "2020-08-12T13:22:33.034761",
     "exception": false,
     "start_time": "2020-08-12T13:22:26.514410",
     "status": "completed"
    },
    "tags": []
   },
   "outputs": [],
   "source": [
    "train = pd.read_csv(\"../input/digit-recognizer/train.csv\")\n",
    "test = pd.read_csv(\"../input/digit-recognizer/test.csv\")"
   ]
  },
  {
   "cell_type": "markdown",
   "execution_count": null,
   "metadata": {
    "papermill": {
     "duration": 0.011374,
     "end_time": "2020-08-12T13:22:33.062493",
     "exception": false,
     "start_time": "2020-08-12T13:22:33.051119",
     "status": "completed"
    },
    "tags": []
   },
   "source": [
    "### Extracting X_train and Y_train from train..."
   ]
  },
  {
   "cell_type": "code",
   "execution_count": 3,
   "metadata": {
    "execution": {
     "iopub.execute_input": "2020-08-12T13:22:33.396804Z",
     "iopub.status.busy": "2020-08-12T13:22:33.395771Z",
     "iopub.status.idle": "2020-08-12T13:22:33.436387Z",
     "shell.execute_reply": "2020-08-12T13:22:33.437016Z"
    },
    "papermill": {
     "duration": 0.362873,
     "end_time": "2020-08-12T13:22:33.437188",
     "exception": false,
     "start_time": "2020-08-12T13:22:33.074315",
     "status": "completed"
    },
    "tags": []
   },
   "outputs": [
    {
     "data": {
      "text/html": [
       "<div>\n",
       "<style scoped>\n",
       "    .dataframe tbody tr th:only-of-type {\n",
       "        vertical-align: middle;\n",
       "    }\n",
       "\n",
       "    .dataframe tbody tr th {\n",
       "        vertical-align: top;\n",
       "    }\n",
       "\n",
       "    .dataframe thead th {\n",
       "        text-align: right;\n",
       "    }\n",
       "</style>\n",
       "<table border=\"1\" class=\"dataframe\">\n",
       "  <thead>\n",
       "    <tr style=\"text-align: right;\">\n",
       "      <th></th>\n",
       "      <th>pixel0</th>\n",
       "      <th>pixel1</th>\n",
       "      <th>pixel2</th>\n",
       "      <th>pixel3</th>\n",
       "      <th>pixel4</th>\n",
       "      <th>pixel5</th>\n",
       "      <th>pixel6</th>\n",
       "      <th>pixel7</th>\n",
       "      <th>pixel8</th>\n",
       "      <th>pixel9</th>\n",
       "      <th>...</th>\n",
       "      <th>pixel774</th>\n",
       "      <th>pixel775</th>\n",
       "      <th>pixel776</th>\n",
       "      <th>pixel777</th>\n",
       "      <th>pixel778</th>\n",
       "      <th>pixel779</th>\n",
       "      <th>pixel780</th>\n",
       "      <th>pixel781</th>\n",
       "      <th>pixel782</th>\n",
       "      <th>pixel783</th>\n",
       "    </tr>\n",
       "  </thead>\n",
       "  <tbody>\n",
       "    <tr>\n",
       "      <th>0</th>\n",
       "      <td>0</td>\n",
       "      <td>0</td>\n",
       "      <td>0</td>\n",
       "      <td>0</td>\n",
       "      <td>0</td>\n",
       "      <td>0</td>\n",
       "      <td>0</td>\n",
       "      <td>0</td>\n",
       "      <td>0</td>\n",
       "      <td>0</td>\n",
       "      <td>...</td>\n",
       "      <td>0</td>\n",
       "      <td>0</td>\n",
       "      <td>0</td>\n",
       "      <td>0</td>\n",
       "      <td>0</td>\n",
       "      <td>0</td>\n",
       "      <td>0</td>\n",
       "      <td>0</td>\n",
       "      <td>0</td>\n",
       "      <td>0</td>\n",
       "    </tr>\n",
       "    <tr>\n",
       "      <th>1</th>\n",
       "      <td>0</td>\n",
       "      <td>0</td>\n",
       "      <td>0</td>\n",
       "      <td>0</td>\n",
       "      <td>0</td>\n",
       "      <td>0</td>\n",
       "      <td>0</td>\n",
       "      <td>0</td>\n",
       "      <td>0</td>\n",
       "      <td>0</td>\n",
       "      <td>...</td>\n",
       "      <td>0</td>\n",
       "      <td>0</td>\n",
       "      <td>0</td>\n",
       "      <td>0</td>\n",
       "      <td>0</td>\n",
       "      <td>0</td>\n",
       "      <td>0</td>\n",
       "      <td>0</td>\n",
       "      <td>0</td>\n",
       "      <td>0</td>\n",
       "    </tr>\n",
       "    <tr>\n",
       "      <th>2</th>\n",
       "      <td>0</td>\n",
       "      <td>0</td>\n",
       "      <td>0</td>\n",
       "      <td>0</td>\n",
       "      <td>0</td>\n",
       "      <td>0</td>\n",
       "      <td>0</td>\n",
       "      <td>0</td>\n",
       "      <td>0</td>\n",
       "      <td>0</td>\n",
       "      <td>...</td>\n",
       "      <td>0</td>\n",
       "      <td>0</td>\n",
       "      <td>0</td>\n",
       "      <td>0</td>\n",
       "      <td>0</td>\n",
       "      <td>0</td>\n",
       "      <td>0</td>\n",
       "      <td>0</td>\n",
       "      <td>0</td>\n",
       "      <td>0</td>\n",
       "    </tr>\n",
       "    <tr>\n",
       "      <th>3</th>\n",
       "      <td>0</td>\n",
       "      <td>0</td>\n",
       "      <td>0</td>\n",
       "      <td>0</td>\n",
       "      <td>0</td>\n",
       "      <td>0</td>\n",
       "      <td>0</td>\n",
       "      <td>0</td>\n",
       "      <td>0</td>\n",
       "      <td>0</td>\n",
       "      <td>...</td>\n",
       "      <td>0</td>\n",
       "      <td>0</td>\n",
       "      <td>0</td>\n",
       "      <td>0</td>\n",
       "      <td>0</td>\n",
       "      <td>0</td>\n",
       "      <td>0</td>\n",
       "      <td>0</td>\n",
       "      <td>0</td>\n",
       "      <td>0</td>\n",
       "    </tr>\n",
       "    <tr>\n",
       "      <th>4</th>\n",
       "      <td>0</td>\n",
       "      <td>0</td>\n",
       "      <td>0</td>\n",
       "      <td>0</td>\n",
       "      <td>0</td>\n",
       "      <td>0</td>\n",
       "      <td>0</td>\n",
       "      <td>0</td>\n",
       "      <td>0</td>\n",
       "      <td>0</td>\n",
       "      <td>...</td>\n",
       "      <td>0</td>\n",
       "      <td>0</td>\n",
       "      <td>0</td>\n",
       "      <td>0</td>\n",
       "      <td>0</td>\n",
       "      <td>0</td>\n",
       "      <td>0</td>\n",
       "      <td>0</td>\n",
       "      <td>0</td>\n",
       "      <td>0</td>\n",
       "    </tr>\n",
       "    <tr>\n",
       "      <th>...</th>\n",
       "      <td>...</td>\n",
       "      <td>...</td>\n",
       "      <td>...</td>\n",
       "      <td>...</td>\n",
       "      <td>...</td>\n",
       "      <td>...</td>\n",
       "      <td>...</td>\n",
       "      <td>...</td>\n",
       "      <td>...</td>\n",
       "      <td>...</td>\n",
       "      <td>...</td>\n",
       "      <td>...</td>\n",
       "      <td>...</td>\n",
       "      <td>...</td>\n",
       "      <td>...</td>\n",
       "      <td>...</td>\n",
       "      <td>...</td>\n",
       "      <td>...</td>\n",
       "      <td>...</td>\n",
       "      <td>...</td>\n",
       "      <td>...</td>\n",
       "    </tr>\n",
       "    <tr>\n",
       "      <th>41995</th>\n",
       "      <td>0</td>\n",
       "      <td>0</td>\n",
       "      <td>0</td>\n",
       "      <td>0</td>\n",
       "      <td>0</td>\n",
       "      <td>0</td>\n",
       "      <td>0</td>\n",
       "      <td>0</td>\n",
       "      <td>0</td>\n",
       "      <td>0</td>\n",
       "      <td>...</td>\n",
       "      <td>0</td>\n",
       "      <td>0</td>\n",
       "      <td>0</td>\n",
       "      <td>0</td>\n",
       "      <td>0</td>\n",
       "      <td>0</td>\n",
       "      <td>0</td>\n",
       "      <td>0</td>\n",
       "      <td>0</td>\n",
       "      <td>0</td>\n",
       "    </tr>\n",
       "    <tr>\n",
       "      <th>41996</th>\n",
       "      <td>0</td>\n",
       "      <td>0</td>\n",
       "      <td>0</td>\n",
       "      <td>0</td>\n",
       "      <td>0</td>\n",
       "      <td>0</td>\n",
       "      <td>0</td>\n",
       "      <td>0</td>\n",
       "      <td>0</td>\n",
       "      <td>0</td>\n",
       "      <td>...</td>\n",
       "      <td>0</td>\n",
       "      <td>0</td>\n",
       "      <td>0</td>\n",
       "      <td>0</td>\n",
       "      <td>0</td>\n",
       "      <td>0</td>\n",
       "      <td>0</td>\n",
       "      <td>0</td>\n",
       "      <td>0</td>\n",
       "      <td>0</td>\n",
       "    </tr>\n",
       "    <tr>\n",
       "      <th>41997</th>\n",
       "      <td>0</td>\n",
       "      <td>0</td>\n",
       "      <td>0</td>\n",
       "      <td>0</td>\n",
       "      <td>0</td>\n",
       "      <td>0</td>\n",
       "      <td>0</td>\n",
       "      <td>0</td>\n",
       "      <td>0</td>\n",
       "      <td>0</td>\n",
       "      <td>...</td>\n",
       "      <td>0</td>\n",
       "      <td>0</td>\n",
       "      <td>0</td>\n",
       "      <td>0</td>\n",
       "      <td>0</td>\n",
       "      <td>0</td>\n",
       "      <td>0</td>\n",
       "      <td>0</td>\n",
       "      <td>0</td>\n",
       "      <td>0</td>\n",
       "    </tr>\n",
       "    <tr>\n",
       "      <th>41998</th>\n",
       "      <td>0</td>\n",
       "      <td>0</td>\n",
       "      <td>0</td>\n",
       "      <td>0</td>\n",
       "      <td>0</td>\n",
       "      <td>0</td>\n",
       "      <td>0</td>\n",
       "      <td>0</td>\n",
       "      <td>0</td>\n",
       "      <td>0</td>\n",
       "      <td>...</td>\n",
       "      <td>0</td>\n",
       "      <td>0</td>\n",
       "      <td>0</td>\n",
       "      <td>0</td>\n",
       "      <td>0</td>\n",
       "      <td>0</td>\n",
       "      <td>0</td>\n",
       "      <td>0</td>\n",
       "      <td>0</td>\n",
       "      <td>0</td>\n",
       "    </tr>\n",
       "    <tr>\n",
       "      <th>41999</th>\n",
       "      <td>0</td>\n",
       "      <td>0</td>\n",
       "      <td>0</td>\n",
       "      <td>0</td>\n",
       "      <td>0</td>\n",
       "      <td>0</td>\n",
       "      <td>0</td>\n",
       "      <td>0</td>\n",
       "      <td>0</td>\n",
       "      <td>0</td>\n",
       "      <td>...</td>\n",
       "      <td>0</td>\n",
       "      <td>0</td>\n",
       "      <td>0</td>\n",
       "      <td>0</td>\n",
       "      <td>0</td>\n",
       "      <td>0</td>\n",
       "      <td>0</td>\n",
       "      <td>0</td>\n",
       "      <td>0</td>\n",
       "      <td>0</td>\n",
       "    </tr>\n",
       "  </tbody>\n",
       "</table>\n",
       "<p>42000 rows × 784 columns</p>\n",
       "</div>"
      ],
      "text/plain": [
       "       pixel0  pixel1  pixel2  pixel3  pixel4  pixel5  pixel6  pixel7  pixel8  \\\n",
       "0           0       0       0       0       0       0       0       0       0   \n",
       "1           0       0       0       0       0       0       0       0       0   \n",
       "2           0       0       0       0       0       0       0       0       0   \n",
       "3           0       0       0       0       0       0       0       0       0   \n",
       "4           0       0       0       0       0       0       0       0       0   \n",
       "...       ...     ...     ...     ...     ...     ...     ...     ...     ...   \n",
       "41995       0       0       0       0       0       0       0       0       0   \n",
       "41996       0       0       0       0       0       0       0       0       0   \n",
       "41997       0       0       0       0       0       0       0       0       0   \n",
       "41998       0       0       0       0       0       0       0       0       0   \n",
       "41999       0       0       0       0       0       0       0       0       0   \n",
       "\n",
       "       pixel9  ...  pixel774  pixel775  pixel776  pixel777  pixel778  \\\n",
       "0           0  ...         0         0         0         0         0   \n",
       "1           0  ...         0         0         0         0         0   \n",
       "2           0  ...         0         0         0         0         0   \n",
       "3           0  ...         0         0         0         0         0   \n",
       "4           0  ...         0         0         0         0         0   \n",
       "...       ...  ...       ...       ...       ...       ...       ...   \n",
       "41995       0  ...         0         0         0         0         0   \n",
       "41996       0  ...         0         0         0         0         0   \n",
       "41997       0  ...         0         0         0         0         0   \n",
       "41998       0  ...         0         0         0         0         0   \n",
       "41999       0  ...         0         0         0         0         0   \n",
       "\n",
       "       pixel779  pixel780  pixel781  pixel782  pixel783  \n",
       "0             0         0         0         0         0  \n",
       "1             0         0         0         0         0  \n",
       "2             0         0         0         0         0  \n",
       "3             0         0         0         0         0  \n",
       "4             0         0         0         0         0  \n",
       "...         ...       ...       ...       ...       ...  \n",
       "41995         0         0         0         0         0  \n",
       "41996         0         0         0         0         0  \n",
       "41997         0         0         0         0         0  \n",
       "41998         0         0         0         0         0  \n",
       "41999         0         0         0         0         0  \n",
       "\n",
       "[42000 rows x 784 columns]"
      ]
     },
     "execution_count": 3,
     "metadata": {},
     "output_type": "execute_result"
    }
   ],
   "source": [
    "Y_train = train[\"label\"]\n",
    "\n",
    "X_train = train.drop(labels = [\"label\"], axis = 1)\n",
    "del train \n",
    "\n",
    "Y_train.value_counts()\n",
    "X_train "
   ]
  },
  {
   "cell_type": "code",
   "execution_count": 4,
   "metadata": {
    "execution": {
     "iopub.execute_input": "2020-08-12T13:22:33.468354Z",
     "iopub.status.busy": "2020-08-12T13:22:33.467529Z",
     "iopub.status.idle": "2020-08-12T13:22:33.796332Z",
     "shell.execute_reply": "2020-08-12T13:22:33.795511Z"
    },
    "papermill": {
     "duration": 0.347214,
     "end_time": "2020-08-12T13:22:33.796499",
     "exception": false,
     "start_time": "2020-08-12T13:22:33.449285",
     "status": "completed"
    },
    "tags": []
   },
   "outputs": [
    {
     "data": {
      "image/png": "[encoded data removed]",
      "text/plain": [
       "<Figure size 432x288 with 1 Axes>"
      ]
     },
     "metadata": {},
     "output_type": "display_data"
    }
   ],
   "source": [
    "g = sns.countplot(Y_train)"
   ]
  },
  {
   "cell_type": "markdown",
   "execution_count": null,
   "metadata": {
    "papermill": {
     "duration": 0.011958,
     "end_time": "2020-08-12T13:22:33.821495",
     "exception": false,
     "start_time": "2020-08-12T13:22:33.809537",
     "status": "completed"
    },
    "tags": []
   },
   "source": [
    "### Checking for missing or null values ..."
   ]
  },
  {
   "cell_type": "code",
   "execution_count": 5,
   "metadata": {
    "execution": {
     "iopub.execute_input": "2020-08-12T13:22:33.853931Z",
     "iopub.status.busy": "2020-08-12T13:22:33.852236Z",
     "iopub.status.idle": "2020-08-12T13:22:33.871474Z",
     "shell.execute_reply": "2020-08-12T13:22:33.870624Z"
    },
    "papermill": {
     "duration": 0.038289,
     "end_time": "2020-08-12T13:22:33.871658",
     "exception": false,
     "start_time": "2020-08-12T13:22:33.833369",
     "status": "completed"
    },
    "tags": []
   },
   "outputs": [
    {
     "data": {
      "text/plain": [
       "count       784\n",
       "unique        1\n",
       "top       False\n",
       "freq        784\n",
       "dtype: object"
      ]
     },
     "execution_count": 5,
     "metadata": {},
     "output_type": "execute_result"
    }
   ],
   "source": [
    "X_train.isnull().any().describe() "
   ]
  },
  {
   "cell_type": "code",
   "execution_count": 6,
   "metadata": {
    "execution": {
     "iopub.execute_input": "2020-08-12T13:22:33.903381Z",
     "iopub.status.busy": "2020-08-12T13:22:33.902502Z",
     "iopub.status.idle": "2020-08-12T13:22:33.919651Z",
     "shell.execute_reply": "2020-08-12T13:22:33.918655Z"
    },
    "papermill": {
     "duration": 0.035608,
     "end_time": "2020-08-12T13:22:33.919840",
     "exception": false,
     "start_time": "2020-08-12T13:22:33.884232",
     "status": "completed"
    },
    "tags": []
   },
   "outputs": [
    {
     "data": {
      "text/plain": [
       "count       784\n",
       "unique        1\n",
       "top       False\n",
       "freq        784\n",
       "dtype: object"
      ]
     },
     "execution_count": 6,
     "metadata": {},
     "output_type": "execute_result"
    }
   ],
   "source": [
    "test.isnull().any().describe()"
   ]
  },
  {
   "cell_type": "markdown",
   "execution_count": null,
   "metadata": {
    "papermill": {
     "duration": 0.012519,
     "end_time": "2020-08-12T13:22:33.945323",
     "exception": false,
     "start_time": "2020-08-12T13:22:33.932804",
     "status": "completed"
    },
    "tags": []
   },
   "source": [
    "It's Looking good no values are null or missing !"
   ]
  },
  {
   "cell_type": "markdown",
   "execution_count": null,
   "metadata": {
    "papermill": {
     "duration": 0.01228,
     "end_time": "2020-08-12T13:22:33.970495",
     "exception": false,
     "start_time": "2020-08-12T13:22:33.958215",
     "status": "completed"
    },
    "tags": []
   },
   "source": [
    "### Normalizing..."
   ]
  },
  {
   "cell_type": "code",
   "execution_count": 7,
   "metadata": {
    "execution": {
     "iopub.execute_input": "2020-08-12T13:22:34.003888Z",
     "iopub.status.busy": "2020-08-12T13:22:34.002861Z",
     "iopub.status.idle": "2020-08-12T13:22:34.257678Z",
     "shell.execute_reply": "2020-08-12T13:22:34.256748Z"
    },
    "papermill": {
     "duration": 0.274625,
     "end_time": "2020-08-12T13:22:34.257829",
     "exception": false,
     "start_time": "2020-08-12T13:22:33.983204",
     "status": "completed"
    },
    "tags": []
   },
   "outputs": [
    {
     "data": {
      "text/plain": [
       "(42000, 784)"
      ]
     },
     "execution_count": 7,
     "metadata": {},
     "output_type": "execute_result"
    }
   ],
   "source": [
    "X_train = X_train / 255.0\n",
    "test = test / 255.0\n",
    "X_train.shape"
   ]
  },
  {
   "cell_type": "markdown",
   "execution_count": null,
   "metadata": {
    "papermill": {
     "duration": 0.012232,
     "end_time": "2020-08-12T13:22:34.283466",
     "exception": false,
     "start_time": "2020-08-12T13:22:34.271234",
     "status": "completed"
    },
    "tags": []
   },
   "source": [
    "### reshape into m x 28 x 28 x 1 shape needed for keras CNN"
   ]
  },
  {
   "cell_type": "code",
   "execution_count": 8,
   "metadata": {
    "execution": {
     "iopub.execute_input": "2020-08-12T13:22:34.318080Z",
     "iopub.status.busy": "2020-08-12T13:22:34.317068Z",
     "iopub.status.idle": "2020-08-12T13:22:34.322227Z",
     "shell.execute_reply": "2020-08-12T13:22:34.322851Z"
    },
    "papermill": {
     "duration": 0.026548,
     "end_time": "2020-08-12T13:22:34.323035",
     "exception": false,
     "start_time": "2020-08-12T13:22:34.296487",
     "status": "completed"
    },
    "tags": []
   },
   "outputs": [
    {
     "data": {
      "text/plain": [
       "(28000, 28, 28, 1)"
      ]
     },
     "execution_count": 8,
     "metadata": {},
     "output_type": "execute_result"
    }
   ],
   "source": [
    "X_train = np.reshape(X_train.values, (-1, 28, 28, 1))\n",
    "X_train.shape\n",
    "test = np.reshape(test.values, (-1, 28, 28, 1))\n",
    "test.shape"
   ]
  },
  {
   "cell_type": "markdown",
   "execution_count": null,
   "metadata": {
    "papermill": {
     "duration": 0.012904,
     "end_time": "2020-08-12T13:22:34.349403",
     "exception": false,
     "start_time": "2020-08-12T13:22:34.336499",
     "status": "completed"
    },
    "tags": []
   },
   "source": [
    "### encoding Labels into one hot vectors..."
   ]
  },
  {
   "cell_type": "code",
   "execution_count": 9,
   "metadata": {
    "execution": {
     "iopub.execute_input": "2020-08-12T13:22:34.382587Z",
     "iopub.status.busy": "2020-08-12T13:22:34.381548Z",
     "iopub.status.idle": "2020-08-12T13:22:34.390095Z",
     "shell.execute_reply": "2020-08-12T13:22:34.391027Z"
    },
    "papermill": {
     "duration": 0.028592,
     "end_time": "2020-08-12T13:22:34.391233",
     "exception": false,
     "start_time": "2020-08-12T13:22:34.362641",
     "status": "completed"
    },
    "tags": []
   },
   "outputs": [
    {
     "data": {
      "text/plain": [
       "array([1., 0., 0., 0., 0., 0., 0., 0., 0., 0.], dtype=float32)"
      ]
     },
     "execution_count": 9,
     "metadata": {},
     "output_type": "execute_result"
    }
   ],
   "source": [
    "Y_train = to_categorical(Y_train, num_classes = 10)\n",
    "Y_train[1]"
   ]
  },
  {
   "cell_type": "markdown",
   "execution_count": null,
   "metadata": {
    "papermill": {
     "duration": 0.012702,
     "end_time": "2020-08-12T13:22:34.417434",
     "exception": false,
     "start_time": "2020-08-12T13:22:34.404732",
     "status": "completed"
    },
    "tags": []
   },
   "source": [
    "### Splitting Train dataset into train and dev(cross validation) set "
   ]
  },
  {
   "cell_type": "code",
   "execution_count": 10,
   "metadata": {
    "execution": {
     "iopub.execute_input": "2020-08-12T13:22:34.452663Z",
     "iopub.status.busy": "2020-08-12T13:22:34.451708Z",
     "iopub.status.idle": "2020-08-12T13:22:35.352456Z",
     "shell.execute_reply": "2020-08-12T13:22:35.351681Z"
    },
    "papermill": {
     "duration": 0.921602,
     "end_time": "2020-08-12T13:22:35.352608",
     "exception": false,
     "start_time": "2020-08-12T13:22:34.431006",
     "status": "completed"
    },
    "tags": []
   },
   "outputs": [
    {
     "data": {
      "text/plain": [
       "(37800, 28, 28, 1)"
      ]
     },
     "execution_count": 10,
     "metadata": {},
     "output_type": "execute_result"
    }
   ],
   "source": [
    "random_seed = 2\n",
    "X_train, X_val, Y_train, Y_val = train_test_split(X_train, Y_train, test_size = 0.1, random_state = random_seed)\n",
    "X_train.shape"
   ]
  },
  {
   "cell_type": "markdown",
   "execution_count": null,
   "metadata": {
    "papermill": {
     "duration": 0.01295,
     "end_time": "2020-08-12T13:22:35.378865",
     "exception": false,
     "start_time": "2020-08-12T13:22:35.365915",
     "status": "completed"
    },
    "tags": []
   },
   "source": [
    "### Visualising Our train data images..."
   ]
  },
  {
   "cell_type": "code",
   "execution_count": 11,
   "metadata": {
    "execution": {
     "iopub.execute_input": "2020-08-12T13:22:35.421587Z",
     "iopub.status.busy": "2020-08-12T13:22:35.419091Z",
     "iopub.status.idle": "2020-08-12T13:22:35.727849Z",
     "shell.execute_reply": "2020-08-12T13:22:35.727005Z"
    },
    "papermill": {
     "duration": 0.335249,
     "end_time": "2020-08-12T13:22:35.727988",
     "exception": false,
     "start_time": "2020-08-12T13:22:35.392739",
     "status": "completed"
    },
    "tags": []
   },
   "outputs": [
    {
     "data": {
      "image/png": "[encoded data removed]",
      "text/plain": [
       "<Figure size 432x288 with 1 Axes>"
      ]
     },
     "metadata": {},
     "output_type": "display_data"
    }
   ],
   "source": [
    "idx = 5\n",
    "g = plt.imshow(X_train[idx][:,:,0])"
   ]
  },
  {
   "cell_type": "markdown",
   "execution_count": null,
   "metadata": {
    "papermill": {
     "duration": 0.013506,
     "end_time": "2020-08-12T13:22:35.755613",
     "exception": false,
     "start_time": "2020-08-12T13:22:35.742107",
     "status": "completed"
    },
    "tags": []
   },
   "source": [
    "### Definning the model !"
   ]
  },
  {
   "cell_type": "code",
   "execution_count": 12,
   "metadata": {
    "execution": {
     "iopub.execute_input": "2020-08-12T13:22:35.797733Z",
     "iopub.status.busy": "2020-08-12T13:22:35.796813Z",
     "iopub.status.idle": "2020-08-12T13:22:36.102815Z",
     "shell.execute_reply": "2020-08-12T13:22:36.101886Z"
    },
    "papermill": {
     "duration": 0.334108,
     "end_time": "2020-08-12T13:22:36.102965",
     "exception": false,
     "start_time": "2020-08-12T13:22:35.768857",
     "status": "completed"
    },
    "tags": []
   },
   "outputs": [],
   "source": [
    "model = Sequential()\n",
    "\n",
    "model.add(Conv2D(filters = 32 , kernel_size = (5,5), activation = 'relu', padding = 'Same', input_shape = (28,28,1)))\n",
    "model.add(Conv2D(filters = 32, kernel_size = (5,5), activation = 'relu', padding = 'Same'))\n",
    "model.add(MaxPool2D(pool_size = (2,2)))\n",
    "model.add(Dropout(0.25))\n",
    "\n",
    "\n",
    "model.add(Conv2D(filters = 64 , kernel_size = (3,3), activation = 'relu', padding = 'Same'))\n",
    "model.add(Conv2D(filters = 32 , kernel_size = (3,3), activation = 'relu', padding = 'Same'))\n",
    "model.add(MaxPool2D(pool_size = (2,2), strides = (2,2)))\n",
    "model.add(Dropout(0.25))\n",
    "\n",
    "model.add(Flatten())\n",
    "model.add(Dense(256, activation = 'relu'))\n",
    "model.add(Dropout(0.5))\n",
    "model.add(Dense(10, activation = 'softmax' ))\n"
   ]
  },
  {
   "cell_type": "markdown",
   "execution_count": null,
   "metadata": {
    "papermill": {
     "duration": 0.013001,
     "end_time": "2020-08-12T13:22:36.130096",
     "exception": false,
     "start_time": "2020-08-12T13:22:36.117095",
     "status": "completed"
    },
    "tags": []
   },
   "source": [
    "### Setting an optimizer algorithm..."
   ]
  },
  {
   "cell_type": "code",
   "execution_count": 13,
   "metadata": {
    "execution": {
     "iopub.execute_input": "2020-08-12T13:22:36.165289Z",
     "iopub.status.busy": "2020-08-12T13:22:36.164048Z",
     "iopub.status.idle": "2020-08-12T13:22:36.167736Z",
     "shell.execute_reply": "2020-08-12T13:22:36.167090Z"
    },
    "papermill": {
     "duration": 0.023993,
     "end_time": "2020-08-12T13:22:36.167933",
     "exception": false,
     "start_time": "2020-08-12T13:22:36.143940",
     "status": "completed"
    },
    "tags": []
   },
   "outputs": [],
   "source": [
    "optimizer = RMSprop(lr = 0.001, decay = 0.0, epsilon = 1e-08)"
   ]
  },
  {
   "cell_type": "markdown",
   "execution_count": null,
   "metadata": {
    "papermill": {
     "duration": 0.013203,
     "end_time": "2020-08-12T13:22:36.194747",
     "exception": false,
     "start_time": "2020-08-12T13:22:36.181544",
     "status": "completed"
    },
    "tags": []
   },
   "source": [
    "### Compiling the model ! "
   ]
  },
  {
   "cell_type": "code",
   "execution_count": 14,
   "metadata": {
    "execution": {
     "iopub.execute_input": "2020-08-12T13:22:36.238500Z",
     "iopub.status.busy": "2020-08-12T13:22:36.232872Z",
     "iopub.status.idle": "2020-08-12T13:22:36.246457Z",
     "shell.execute_reply": "2020-08-12T13:22:36.245741Z"
    },
    "papermill": {
     "duration": 0.037564,
     "end_time": "2020-08-12T13:22:36.246613",
     "exception": false,
     "start_time": "2020-08-12T13:22:36.209049",
     "status": "completed"
    },
    "tags": []
   },
   "outputs": [],
   "source": [
    "model.compile(optimizer = optimizer, loss = \"categorical_crossentropy\", metrics = [\"accuracy\"])"
   ]
  },
  {
   "cell_type": "markdown",
   "execution_count": null,
   "metadata": {
    "papermill": {
     "duration": 0.013468,
     "end_time": "2020-08-12T13:22:36.275297",
     "exception": false,
     "start_time": "2020-08-12T13:22:36.261829",
     "status": "completed"
    },
    "tags": []
   },
   "source": [
    " ### reducing the learning rate dynamically "
   ]
  },
  {
   "cell_type": "code",
   "execution_count": 15,
   "metadata": {
    "execution": {
     "iopub.execute_input": "2020-08-12T13:22:36.309640Z",
     "iopub.status.busy": "2020-08-12T13:22:36.308679Z",
     "iopub.status.idle": "2020-08-12T13:22:36.312373Z",
     "shell.execute_reply": "2020-08-12T13:22:36.311716Z"
    },
    "papermill": {
     "duration": 0.02369,
     "end_time": "2020-08-12T13:22:36.312503",
     "exception": false,
     "start_time": "2020-08-12T13:22:36.288813",
     "status": "completed"
    },
    "tags": []
   },
   "outputs": [],
   "source": [
    "learning_rate_reduction = ReduceLROnPlateau(monitor='val_acc', factor=0.5, patience=3, verbose = 1, min_lr = 0.0001)"
   ]
  },
  {
   "cell_type": "code",
   "execution_count": 16,
   "metadata": {
    "execution": {
     "iopub.execute_input": "2020-08-12T13:22:36.346111Z",
     "iopub.status.busy": "2020-08-12T13:22:36.345009Z",
     "iopub.status.idle": "2020-08-12T13:22:36.348819Z",
     "shell.execute_reply": "2020-08-12T13:22:36.347851Z"
    },
    "papermill": {
     "duration": 0.022646,
     "end_time": "2020-08-12T13:22:36.348971",
     "exception": false,
     "start_time": "2020-08-12T13:22:36.326325",
     "status": "completed"
    },
    "tags": []
   },
   "outputs": [],
   "source": [
    "epochs = 30\n",
    "batch_size = 86"
   ]
  },
  {
   "cell_type": "markdown",
   "execution_count": null,
   "metadata": {
    "papermill": {
     "duration": 0.013472,
     "end_time": "2020-08-12T13:22:36.376281",
     "exception": false,
     "start_time": "2020-08-12T13:22:36.362809",
     "status": "completed"
    },
    "tags": []
   },
   "source": [
    "#### Uncomment for fiting without data-aug, expecting 0.97-0.98 val_acc "
   ]
  },
  {
   "cell_type": "code",
   "execution_count": 17,
   "metadata": {
    "execution": {
     "iopub.execute_input": "2020-08-12T13:22:36.409533Z",
     "iopub.status.busy": "2020-08-12T13:22:36.408703Z",
     "iopub.status.idle": "2020-08-12T13:22:36.412527Z",
     "shell.execute_reply": "2020-08-12T13:22:36.411706Z"
    },
    "papermill": {
     "duration": 0.022604,
     "end_time": "2020-08-12T13:22:36.412697",
     "exception": false,
     "start_time": "2020-08-12T13:22:36.390093",
     "status": "completed"
    },
    "tags": []
   },
   "outputs": [],
   "source": [
    "#history = model.fit(X_train, Y_train, batch_size = batch_size, epochs = epochs, verbose = 2, validation_data = (X_val ,Y_val))"
   ]
  },
  {
   "cell_type": "markdown",
   "execution_count": null,
   "metadata": {
    "papermill": {
     "duration": 0.013439,
     "end_time": "2020-08-12T13:22:36.440301",
     "exception": false,
     "start_time": "2020-08-12T13:22:36.426862",
     "status": "completed"
    },
    "tags": []
   },
   "source": [
    "# Data Augmentation\n",
    "without data-aug we can expect a val_accuracy between 0.9790 and 0.98 depending on your number of epochs \n",
    "with data-aug we can do even better..."
   ]
  },
  {
   "cell_type": "code",
   "execution_count": 18,
   "metadata": {
    "execution": {
     "iopub.execute_input": "2020-08-12T13:22:36.476764Z",
     "iopub.status.busy": "2020-08-12T13:22:36.475859Z",
     "iopub.status.idle": "2020-08-12T13:22:36.583558Z",
     "shell.execute_reply": "2020-08-12T13:22:36.582787Z"
    },
    "papermill": {
     "duration": 0.129706,
     "end_time": "2020-08-12T13:22:36.583723",
     "exception": false,
     "start_time": "2020-08-12T13:22:36.454017",
     "status": "completed"
    },
    "tags": []
   },
   "outputs": [],
   "source": [
    "datagen = ImageDataGenerator (featurewise_center = False,\n",
    "                              samplewise_center = False, \n",
    "                              featurewise_std_normalization = False,\n",
    "                              samplewise_std_normalization = False,\n",
    "                              zca_whitening=False,\n",
    "                              rotation_range = 10,\n",
    "                              zoom_range = 0.1,\n",
    "                              width_shift_range = 0.1,\n",
    "                              height_shift_range = 0.1,\n",
    "                              horizontal_flip = False,\n",
    "                              vertical_flip=False)\n",
    "datagen.fit(X_train)"
   ]
  },
  {
   "cell_type": "code",
   "execution_count": 19,
   "metadata": {
    "execution": {
     "iopub.execute_input": "2020-08-12T13:22:36.620698Z",
     "iopub.status.busy": "2020-08-12T13:22:36.619008Z",
     "iopub.status.idle": "2020-08-12T14:31:52.682160Z",
     "shell.execute_reply": "2020-08-12T14:31:52.681422Z"
    },
    "papermill": {
     "duration": 4156.08458,
     "end_time": "2020-08-12T14:31:52.682336",
     "exception": false,
     "start_time": "2020-08-12T13:22:36.597756",
     "status": "completed"
    },
    "tags": []
   },
   "outputs": [
    {
     "name": "stdout",
     "output_type": "stream",
     "text": [
      "Epoch 1/30\n",
      "439/439 [==============================] - 137s 313ms/step - loss: 0.4674 - accuracy: 0.8484 - val_loss: 0.0594 - val_accuracy: 0.9810 - lr: 0.0010\n",
      "Epoch 2/30\n",
      "439/439 [==============================] - 136s 310ms/step - loss: 0.1498 - accuracy: 0.9552 - val_loss: 0.0609 - val_accuracy: 0.9819 - lr: 0.0010\n",
      "Epoch 3/30\n",
      "439/439 [==============================] - 146s 333ms/step - loss: 0.1064 - accuracy: 0.9679 - val_loss: 0.0300 - val_accuracy: 0.9905 - lr: 0.0010\n",
      "Epoch 4/30\n",
      "439/439 [==============================] - 140s 318ms/step - loss: 0.0862 - accuracy: 0.9734 - val_loss: 0.0337 - val_accuracy: 0.9900 - lr: 0.0010\n",
      "Epoch 5/30\n",
      "439/439 [==============================] - 136s 309ms/step - loss: 0.0754 - accuracy: 0.9769 - val_loss: 0.0397 - val_accuracy: 0.9879 - lr: 0.0010\n",
      "Epoch 6/30\n",
      "439/439 [==============================] - 137s 312ms/step - loss: 0.0706 - accuracy: 0.9793 - val_loss: 0.0280 - val_accuracy: 0.9910 - lr: 0.0010\n",
      "Epoch 7/30\n",
      "439/439 [==============================] - 136s 311ms/step - loss: 0.0662 - accuracy: 0.9807 - val_loss: 0.0295 - val_accuracy: 0.9912 - lr: 0.0010\n",
      "Epoch 8/30\n",
      "439/439 [==============================] - 136s 309ms/step - loss: 0.0630 - accuracy: 0.9812 - val_loss: 0.0249 - val_accuracy: 0.9914 - lr: 0.0010\n",
      "Epoch 9/30\n",
      "439/439 [==============================] - 136s 310ms/step - loss: 0.0646 - accuracy: 0.9817 - val_loss: 0.0252 - val_accuracy: 0.9912 - lr: 0.0010\n",
      "Epoch 10/30\n",
      "439/439 [==============================] - 135s 308ms/step - loss: 0.0603 - accuracy: 0.9828 - val_loss: 0.0237 - val_accuracy: 0.9936 - lr: 0.0010\n",
      "Epoch 11/30\n",
      "439/439 [==============================] - 138s 314ms/step - loss: 0.0557 - accuracy: 0.9834 - val_loss: 0.0259 - val_accuracy: 0.9910 - lr: 0.0010\n",
      "Epoch 12/30\n",
      "439/439 [==============================] - 135s 309ms/step - loss: 0.0618 - accuracy: 0.9835 - val_loss: 0.0247 - val_accuracy: 0.9921 - lr: 0.0010\n",
      "Epoch 13/30\n",
      "439/439 [==============================] - 138s 314ms/step - loss: 0.0567 - accuracy: 0.9839 - val_loss: 0.0334 - val_accuracy: 0.9895 - lr: 0.0010\n",
      "Epoch 14/30\n",
      "439/439 [==============================] - 136s 310ms/step - loss: 0.0581 - accuracy: 0.9838 - val_loss: 0.0252 - val_accuracy: 0.9926 - lr: 0.0010\n",
      "Epoch 15/30\n",
      "439/439 [==============================] - 137s 312ms/step - loss: 0.0620 - accuracy: 0.9837 - val_loss: 0.0273 - val_accuracy: 0.9924 - lr: 0.0010\n",
      "Epoch 16/30\n",
      "439/439 [==============================] - 137s 312ms/step - loss: 0.0590 - accuracy: 0.9841 - val_loss: 0.0234 - val_accuracy: 0.9924 - lr: 0.0010\n",
      "Epoch 17/30\n",
      "439/439 [==============================] - 153s 349ms/step - loss: 0.0583 - accuracy: 0.9843 - val_loss: 0.0275 - val_accuracy: 0.9912 - lr: 0.0010\n",
      "Epoch 18/30\n",
      "439/439 [==============================] - 137s 312ms/step - loss: 0.0601 - accuracy: 0.9837 - val_loss: 0.0335 - val_accuracy: 0.9883 - lr: 0.0010\n",
      "Epoch 19/30\n",
      "439/439 [==============================] - 136s 309ms/step - loss: 0.0622 - accuracy: 0.9838 - val_loss: 0.0190 - val_accuracy: 0.9929 - lr: 0.0010\n",
      "Epoch 20/30\n",
      "439/439 [==============================] - 138s 314ms/step - loss: 0.0623 - accuracy: 0.9841 - val_loss: 0.0357 - val_accuracy: 0.9924 - lr: 0.0010\n",
      "Epoch 21/30\n",
      "439/439 [==============================] - 135s 309ms/step - loss: 0.0612 - accuracy: 0.9841 - val_loss: 0.0239 - val_accuracy: 0.9938 - lr: 0.0010\n",
      "Epoch 22/30\n",
      "439/439 [==============================] - 139s 316ms/step - loss: 0.0643 - accuracy: 0.9831 - val_loss: 0.0190 - val_accuracy: 0.9938 - lr: 0.0010\n",
      "Epoch 23/30\n",
      "439/439 [==============================] - 136s 310ms/step - loss: 0.0704 - accuracy: 0.9825 - val_loss: 0.0238 - val_accuracy: 0.9921 - lr: 0.0010\n",
      "Epoch 24/30\n",
      "439/439 [==============================] - 137s 312ms/step - loss: 0.0670 - accuracy: 0.9826 - val_loss: 0.0205 - val_accuracy: 0.9926 - lr: 0.0010\n",
      "Epoch 25/30\n",
      "439/439 [==============================] - 141s 321ms/step - loss: 0.0675 - accuracy: 0.9826 - val_loss: 0.0250 - val_accuracy: 0.9926 - lr: 0.0010\n",
      "Epoch 26/30\n",
      "439/439 [==============================] - 136s 309ms/step - loss: 0.0749 - accuracy: 0.9809 - val_loss: 0.0181 - val_accuracy: 0.9938 - lr: 0.0010\n",
      "Epoch 27/30\n",
      "439/439 [==============================] - 137s 313ms/step - loss: 0.0711 - accuracy: 0.9827 - val_loss: 0.0254 - val_accuracy: 0.9919 - lr: 0.0010\n",
      "Epoch 28/30\n",
      "439/439 [==============================] - 136s 311ms/step - loss: 0.0754 - accuracy: 0.9813 - val_loss: 0.0301 - val_accuracy: 0.9926 - lr: 0.0010\n",
      "Epoch 29/30\n",
      "439/439 [==============================] - 150s 342ms/step - loss: 0.0771 - accuracy: 0.9806 - val_loss: 0.0243 - val_accuracy: 0.9929 - lr: 0.0010\n",
      "Epoch 30/30\n",
      "439/439 [==============================] - 136s 310ms/step - loss: 0.0759 - accuracy: 0.9818 - val_loss: 0.0304 - val_accuracy: 0.9931 - lr: 0.0010\n"
     ]
    }
   ],
   "source": [
    "history = model.fit_generator(datagen.flow(X_train, Y_train, batch_size = batch_size),epochs = epochs,\n",
    " validation_data = (X_val, Y_val),verbose = 1,steps_per_epoch = X_train.shape[0] // batch_size,\n",
    "                                           callbacks = [learning_rate_reduction])"
   ]
  },
  {
   "cell_type": "markdown",
   "execution_count": null,
   "metadata": {
    "papermill": {
     "duration": 0.978817,
     "end_time": "2020-08-12T14:31:54.621592",
     "exception": false,
     "start_time": "2020-08-12T14:31:53.642775",
     "status": "completed"
    },
    "tags": []
   },
   "source": [
    "# Evaluating the model...\n"
   ]
  },
  {
   "cell_type": "code",
   "execution_count": 20,
   "metadata": {
    "execution": {
     "iopub.execute_input": "2020-08-12T14:31:56.524374Z",
     "iopub.status.busy": "2020-08-12T14:31:56.519560Z",
     "iopub.status.idle": "2020-08-12T14:31:57.191027Z",
     "shell.execute_reply": "2020-08-12T14:31:57.190336Z"
    },
    "papermill": {
     "duration": 1.667958,
     "end_time": "2020-08-12T14:31:57.191181",
     "exception": false,
     "start_time": "2020-08-12T14:31:55.523223",
     "status": "completed"
    },
    "tags": []
   },
   "outputs": [
    {
     "data": {
      "image/png": "[encoded data removed]",
      "text/plain": [
       "<Figure size 432x288 with 2 Axes>"
      ]
     },
     "metadata": {},
     "output_type": "display_data"
    }
   ],
   "source": [
    "fig,ax = plt.subplots(2,1)\n",
    "ax[0].plot(history.history['loss'], label = \"Training loss\", color =\"b\")\n",
    "ax[0].plot(history.history['val_loss'], label = \" Validation loss\", color =\"yellow\", axes = ax[0])\n",
    "legend = ax[0].legend(loc = 'best', shadow =True)\n",
    "\n",
    "ax[1].plot(history.history['accuracy'], label = \"Training accuracy\", color = 'b')\n",
    "ax[1].plot(history.history['val_accuracy'], label = \"Validation accuracy\", color = 'yellow')\n",
    "legend = ax[1].legend(loc = 'best', shadow =True)"
   ]
  },
  {
   "cell_type": "markdown",
   "execution_count": null,
   "metadata": {
    "papermill": {
     "duration": 0.965775,
     "end_time": "2020-08-12T14:31:59.062887",
     "exception": false,
     "start_time": "2020-08-12T14:31:58.097112",
     "status": "completed"
    },
    "tags": []
   },
   "source": [
    "#  Confusion Matrix..."
   ]
  },
  {
   "cell_type": "code",
   "execution_count": 21,
   "metadata": {
    "execution": {
     "iopub.execute_input": "2020-08-12T14:32:00.936748Z",
     "iopub.status.busy": "2020-08-12T14:32:00.935625Z",
     "iopub.status.idle": "2020-08-12T14:32:23.058935Z",
     "shell.execute_reply": "2020-08-12T14:32:23.058130Z"
    },
    "papermill": {
     "duration": 23.096611,
     "end_time": "2020-08-12T14:32:23.059102",
     "exception": false,
     "start_time": "2020-08-12T14:31:59.962491",
     "status": "completed"
    },
    "tags": []
   },
   "outputs": [],
   "source": [
    "# predict results\n",
    "results = model.predict(test)\n",
    "\n",
    "# select the indix with the maximum probability\n",
    "results = np.argmax(results,axis = 1)\n",
    "\n",
    "results = pd.Series(results,name=\"Label\")"
   ]
  },
  {
   "cell_type": "code",
   "execution_count": 22,
   "metadata": {
    "execution": {
     "iopub.execute_input": "2020-08-12T14:32:24.942008Z",
     "iopub.status.busy": "2020-08-12T14:32:24.941012Z",
     "iopub.status.idle": "2020-08-12T14:32:25.121784Z",
     "shell.execute_reply": "2020-08-12T14:32:25.120895Z"
    },
    "papermill": {
     "duration": 1.095107,
     "end_time": "2020-08-12T14:32:25.121941",
     "exception": false,
     "start_time": "2020-08-12T14:32:24.026834",
     "status": "completed"
    },
    "tags": []
   },
   "outputs": [],
   "source": [
    "submission = pd.concat([pd.Series(range(1,28001),name = \"ImageId\"),results],axis = 1)\n",
    "\n",
    "submission.to_csv(\"cnn_mnist_datagen.csv\",index=False)"
   ]
  },
  {
   "cell_type": "code",
   "execution_count": null,
   "metadata": {
    "papermill": {
     "duration": 1.223249,
     "end_time": "2020-08-12T14:32:27.359403",
     "exception": false,
     "start_time": "2020-08-12T14:32:26.136154",
     "status": "completed"
    },
    "tags": []
   },
   "outputs": [],
   "source": []
  }
 ],
 "metadata": {
  "kernelspec": {
   "display_name": "Python 3",
   "language": "python",
   "name": "python3"
  },
  "language_info": {
   "codemirror_mode": {
    "name": "ipython",
    "version": 3
   },
   "file_extension": ".py",
   "mimetype": "text/x-python",
   "name": "python",
   "nbconvert_exporter": "python",
   "pygments_lexer": "ipython3",
   "version": "3.7.6"
  },
  "papermill": {
   "duration": 4216.604369,
   "end_time": "2020-08-12T14:32:28.871507",
   "environment_variables": {},
   "exception": null,
   "input_path": "__notebook__.ipynb",
   "output_path": "__notebook__.ipynb",
   "parameters": {},
   "start_time": "2020-08-12T13:22:12.267138",
   "version": "2.1.0"
  }
 },
 "nbformat": 4,
 "nbformat_minor": 4
}
